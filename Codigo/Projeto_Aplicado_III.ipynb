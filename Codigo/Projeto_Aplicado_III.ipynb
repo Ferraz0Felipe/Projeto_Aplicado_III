{
 "cells": [
  {
   "cell_type": "markdown",
   "metadata": {},
   "source": [
    "Link do Dados \n",
    "\n",
    "https://www.kaggle.com/code/leandroal/an-lise-do-e-commerce-no-brasil-olist-dataset"
   ]
  },
  {
   "cell_type": "markdown",
   "metadata": {},
   "source": [
    "1. Introdução \n",
    "No Brasil, milhares de compras são efetuadas pela Internet todos os anos. Trata-se de um mercado em constante ritmo de crescimento, de modo que seria extremamente relevante tentar entender comportamentos do consumidor inerentes a este contexto, como meses em que ocorrem maior quantidade de compras, horário em que são realizados mais negócios, tempo médio de entrega, nível de satisfação, etc.\n",
    "\n",
    "Para isso, foi selecionado um conjunto de dados disponibilizado pela Olist, a maior loja de departmento dos \"marketplaces\", com informações de mais de 100 mil pedidos de 2016 a 2018.\n",
    "\n",
    "Como se tratam de dados reais, estes foram disponibilizados de forma a manter o anonimato de qualquer indivíduo, empresa ou parceiro."
   ]
  },
  {
   "cell_type": "code",
   "execution_count": 1,
   "metadata": {},
   "outputs": [
    {
     "name": "stdout",
     "output_type": "stream",
     "text": [
      "Warning: Looks like you're using an outdated `kagglehub` version, please consider updating (latest version: 0.3.10)\n",
      "Path to dataset files: C:\\Users\\Carlos\\.cache\\kagglehub\\datasets\\olistbr\\brazilian-ecommerce\\versions\\2\n"
     ]
    }
   ],
   "source": [
    "import kagglehub\n",
    "\n",
    "# Download latest version\n",
    "path = kagglehub.dataset_download(\"olistbr/brazilian-ecommerce\")\n",
    "\n",
    "print(\"Path to dataset files:\", path)"
   ]
  },
  {
   "cell_type": "code",
   "execution_count": 2,
   "metadata": {},
   "outputs": [
    {
     "name": "stdout",
     "output_type": "stream",
     "text": [
      "Bibliotecas preparadas!\n"
     ]
    }
   ],
   "source": [
    "import pandas as pd\n",
    "pd.options.display.float_format = '{:.2f}'.format\n",
    "import numpy as np\n",
    "import seaborn as sns\n",
    "import matplotlib.pyplot as plt\n",
    "from matplotlib.pyplot import figure\n",
    "plt.style.use('fivethirtyeight')\n",
    "import warnings\n",
    "warnings.filterwarnings('ignore')\n",
    "import folium\n",
    "from folium import plugins\n",
    "from sklearn.cluster import DBSCAN\n",
    "print('Bibliotecas preparadas!')"
   ]
  },
  {
   "cell_type": "code",
   "execution_count": 3,
   "metadata": {},
   "outputs": [
    {
     "name": "stdout",
     "output_type": "stream",
     "text": [
      "                        customer_id                customer_unique_id  \\\n",
      "0  06b8999e2fba1a1fbc88172c00ba8bc7  861eff4711a542e4b93843c6dd7febb0   \n",
      "1  18955e83d337fd6b2def6b18a428ac77  290c77bc529b7ac935b93aa66c333dc3   \n",
      "2  4e7b3e00288586ebd08712fdd0374a03  060e732b5b29e8181a18229c7b0b2b5e   \n",
      "3  b2b6027bc5c5109e529d4dc6358b12c3  259dac757896d24d7702b9acbbff3f3c   \n",
      "4  4f2d8ab171c80ec8364f7c12e35b23ad  345ecd01c38d18a9036ed96c73b8d066   \n",
      "\n",
      "   customer_zip_code_prefix          customer_city customer_state  \n",
      "0                     14409                 franca             SP  \n",
      "1                      9790  sao bernardo do campo             SP  \n",
      "2                      1151              sao paulo             SP  \n",
      "3                      8775        mogi das cruzes             SP  \n",
      "4                     13056               campinas             SP  \n"
     ]
    }
   ],
   "source": [
    "files = {\n",
    "    'customers': r'C:\\Users\\Carlos\\.cache\\kagglehub\\datasets\\olistbr\\brazilian-ecommerce\\versions\\2\\olist_customers_dataset.csv',\n",
    "    'geolocation': r'C:\\Users\\Carlos\\.cache\\kagglehub\\datasets\\olistbr\\brazilian-ecommerce\\versions\\2\\olist_geolocation_dataset.csv',\n",
    "    'items': r'C:\\Users\\Carlos\\.cache\\kagglehub\\datasets\\olistbr\\brazilian-ecommerce\\versions\\2\\olist_order_items_dataset.csv',\n",
    "    'payment': r'C:\\Users\\Carlos\\.cache\\kagglehub\\datasets\\olistbr\\brazilian-ecommerce\\versions\\2\\olist_order_payments_dataset.csv',\n",
    "    'orders': r'C:\\Users\\Carlos\\.cache\\kagglehub\\datasets\\olistbr\\brazilian-ecommerce\\versions\\2\\olist_orders_dataset.csv',\n",
    "    'products': r'C:\\Users\\Carlos\\.cache\\kagglehub\\datasets\\olistbr\\brazilian-ecommerce\\versions\\2\\olist_products_dataset.csv',\n",
    "    'sellers': r'C:\\Users\\Carlos\\.cache\\kagglehub\\datasets\\olistbr\\brazilian-ecommerce\\versions\\2\\olist_sellers_dataset.csv',\n",
    "    'review': r'C:\\Users\\Carlos\\.cache\\kagglehub\\datasets\\olistbr\\brazilian-ecommerce\\versions\\2\\olist_order_reviews_dataset.csv',\n",
    "}\n",
    "\n",
    "\n",
    "dfs = {}\n",
    "for key, value in files.items():\n",
    "    dfs[key] = pd.read_csv(value)\n",
    "\n",
    "# Exibir as primeiras linhas de um dataset (exemplo: customers)\n",
    "print(dfs['customers'].head())\n",
    "\n"
   ]
  },
  {
   "cell_type": "code",
   "execution_count": 4,
   "metadata": {},
   "outputs": [],
   "source": [
    "# Cruzamento gradativo\n",
    "customers_location = dfs['customers'].merge(dfs['geolocation'], how='inner', left_on='customer_zip_code_prefix', right_on='geolocation_zip_code_prefix').drop_duplicates('customer_id', keep='first')\n",
    "cusloc_order = customers_location.merge(dfs['orders'], how='inner', on='customer_id')\n",
    "cuslocord_item = cusloc_order.merge(dfs['items'], how='inner', on='order_id')\n",
    "cuslocordite_prod = cuslocord_item.merge(dfs['products'], how='inner', on='product_id')\n",
    "cuslocordite_rev= cuslocordite_prod.merge(dfs['review'], how='left', on='order_id')\n",
    "\n",
    "# Selecionando as colunas de interesse\n",
    "final = cuslocordite_rev[['customer_id', 'customer_unique_id', 'customer_zip_code_prefix',\n",
    "       'customer_city', 'customer_state',\n",
    "       'geolocation_lat', 'geolocation_lng','order_id', 'order_status',\n",
    "       'order_purchase_timestamp', 'order_approved_at',\n",
    "       'order_delivered_carrier_date', 'order_delivered_customer_date',\n",
    "       'order_estimated_delivery_date', 'order_item_id', 'product_id',\n",
    "       'seller_id', 'shipping_limit_date', 'price', 'freight_value',\n",
    "       'product_category_name', 'product_photos_qty',\n",
    "       'review_id', 'review_score', 'review_comment_title',\n",
    "       'review_comment_message', 'review_creation_date',\n",
    "       'review_answer_timestamp']]\n"
   ]
  },
  {
   "cell_type": "code",
   "execution_count": 5,
   "metadata": {},
   "outputs": [
    {
     "data": {
      "text/plain": [
       "(113007, 28)"
      ]
     },
     "execution_count": 5,
     "metadata": {},
     "output_type": "execute_result"
    }
   ],
   "source": [
    "final.shape"
   ]
  },
  {
   "cell_type": "code",
   "execution_count": 6,
   "metadata": {},
   "outputs": [
    {
     "data": {
      "text/plain": [
       "<bound method NDFrame.head of                              customer_id                customer_unique_id  \\\n",
       "0       06b8999e2fba1a1fbc88172c00ba8bc7  861eff4711a542e4b93843c6dd7febb0   \n",
       "1       18955e83d337fd6b2def6b18a428ac77  290c77bc529b7ac935b93aa66c333dc3   \n",
       "2       4e7b3e00288586ebd08712fdd0374a03  060e732b5b29e8181a18229c7b0b2b5e   \n",
       "3       b2b6027bc5c5109e529d4dc6358b12c3  259dac757896d24d7702b9acbbff3f3c   \n",
       "4       4f2d8ab171c80ec8364f7c12e35b23ad  345ecd01c38d18a9036ed96c73b8d066   \n",
       "...                                  ...                               ...   \n",
       "113002  17ddf5dd5d51696bb3d7c6291687be6f  1a29b476fee25c95fbafc67c5ac95cf8   \n",
       "113003  e7b71a9017aa05c9a7fd292d714858e8  d52a67c98be1cf6a5c84435bd38d095d   \n",
       "113004  5e28dfe12db7fb50a4b2f691faecea5e  e9f50caf99f032f0bf3c55141f019d99   \n",
       "113005  56b18e2166679b8a959d72dd06da27f9  73c2643a0a458b49f58cea58833b192e   \n",
       "113006  274fa6071e5e17fe303b9748641082c8  84732c5050c01db9b23e19ba39899398   \n",
       "\n",
       "        customer_zip_code_prefix          customer_city customer_state  \\\n",
       "0                          14409                 franca             SP   \n",
       "1                           9790  sao bernardo do campo             SP   \n",
       "2                           1151              sao paulo             SP   \n",
       "3                           8775        mogi das cruzes             SP   \n",
       "4                          13056               campinas             SP   \n",
       "...                          ...                    ...            ...   \n",
       "113002                      3937              sao paulo             SP   \n",
       "113003                      6764        taboao da serra             SP   \n",
       "113004                     60115              fortaleza             CE   \n",
       "113005                     92120                 canoas             RS   \n",
       "113006                      6703                  cotia             SP   \n",
       "\n",
       "        geolocation_lat  geolocation_lng                          order_id  \\\n",
       "0                -20.51           -47.40  00e7ee1b050b8499577073aeb2a297a1   \n",
       "1                -23.73           -46.55  29150127e6685892b6eab3eec79f59c7   \n",
       "2                -23.53           -46.66  b2059ed67ce144a36e2aa97d2c9e9ad2   \n",
       "3                -23.50           -46.19  951670f92359f4fe4a63112aa7306eba   \n",
       "4                -22.99           -47.15  6b7d50bd145f6fc7f33cebabd7e49d0f   \n",
       "...                 ...              ...                               ...   \n",
       "113002           -23.59           -46.50  6760e20addcf0121e9d58f2f1ff14298   \n",
       "113003           -23.61           -46.77  9ec0c8947d973db4f4e8dcf1fbfa8f1b   \n",
       "113004            -3.74           -38.51  fed4434add09a6f332ea398efd656a5c   \n",
       "113005           -29.96           -51.17  e31ec91cea1ecf97797787471f98a8c2   \n",
       "113006           -23.59           -46.91  28db69209a75e59f20ccbb5c36a20b90   \n",
       "\n",
       "       order_status order_purchase_timestamp  ...  price freight_value  \\\n",
       "0         delivered      2017-05-16 15:05:35  ... 124.99         21.88   \n",
       "1         delivered      2018-01-12 20:48:24  ... 289.00         46.48   \n",
       "2         delivered      2018-05-19 16:07:45  ... 139.94         17.79   \n",
       "3         delivered      2018-03-13 16:06:38  ... 149.94         23.36   \n",
       "4         delivered      2018-07-29 09:51:30  ... 230.00         22.25   \n",
       "...             ...                      ...  ...    ...           ...   \n",
       "113002    delivered      2018-04-07 15:48:17  ...  74.90         13.88   \n",
       "113003    delivered      2018-04-04 08:20:22  ... 114.90         14.16   \n",
       "113004    delivered      2018-04-08 20:11:50  ...  37.00         19.04   \n",
       "113005    delivered      2017-11-03 21:08:33  ... 689.00         22.07   \n",
       "113006    delivered      2017-12-19 14:27:23  ...  13.99          7.78   \n",
       "\n",
       "         product_category_name product_photos_qty  \\\n",
       "0            moveis_escritorio               1.00   \n",
       "1        utilidades_domesticas               3.00   \n",
       "2            moveis_escritorio               1.00   \n",
       "3            moveis_escritorio               1.00   \n",
       "4                casa_conforto               1.00   \n",
       "...                        ...                ...   \n",
       "113002  livros_interesse_geral               2.00   \n",
       "113003           esporte_lazer               1.00   \n",
       "113004            beleza_saude               1.00   \n",
       "113005      relogios_presentes               1.00   \n",
       "113006              perfumaria               1.00   \n",
       "\n",
       "                               review_id review_score review_comment_title  \\\n",
       "0       88b8b52d46df026a9d1ad2136a59b30b         4.00                  NaN   \n",
       "1       02fc48a9efa3e3d0f1a8ea26507eeec3         5.00                  NaN   \n",
       "2       5ad6695d76ee186dc473c42706984d87         5.00                  NaN   \n",
       "3       059a801bb31f6aab2266e672cab87bc5         5.00                  NaN   \n",
       "4       8490879d58d6c5d7773f2739a03f089a         5.00        a melhor nota   \n",
       "...                                  ...          ...                  ...   \n",
       "113002  36e2cdbaa9f639b57c53b37ac798fee8         4.00            Recomendo   \n",
       "113003  b273b431c3aedb4eed18643309652940         5.00                  NaN   \n",
       "113004  fa4f16891e6b2edd1354668d07f5648b         1.00             Chateada   \n",
       "113005  0bcdc9e450ea500811a8d39ee993cd47         5.00                  NaN   \n",
       "113006  d95d701d062d2bb88041768a63aa750d         5.00                  NaN   \n",
       "\n",
       "                                   review_comment_message  \\\n",
       "0                                                     NaN   \n",
       "1                                                     NaN   \n",
       "2                                                     NaN   \n",
       "3                                                     NaN   \n",
       "4           O baratheon è esxelente Amo adoro o baratheon   \n",
       "...                                                   ...   \n",
       "113002                                                NaN   \n",
       "113003                                                NaN   \n",
       "113004  Esperava qualidade no atendimento e estou tend...   \n",
       "113005                                                NaN   \n",
       "113006  Produto chegou bem antes do prazo , gostei mui...   \n",
       "\n",
       "        review_creation_date  review_answer_timestamp  \n",
       "0        2017-05-26 00:00:00      2017-05-30 22:34:40  \n",
       "1        2018-01-30 00:00:00      2018-02-10 22:43:29  \n",
       "2        2018-06-15 00:00:00      2018-06-15 12:10:59  \n",
       "3        2018-03-29 00:00:00      2018-04-02 18:36:47  \n",
       "4        2018-08-10 00:00:00      2018-08-17 01:59:52  \n",
       "...                      ...                      ...  \n",
       "113002   2018-04-14 00:00:00      2018-04-28 11:15:04  \n",
       "113003   2018-04-12 00:00:00      2018-04-16 10:36:05  \n",
       "113004   2018-05-04 00:00:00      2018-05-08 01:41:07  \n",
       "113005   2017-11-17 00:00:00      2017-11-19 23:34:18  \n",
       "113006   2017-12-27 00:00:00      2017-12-27 23:21:06  \n",
       "\n",
       "[113007 rows x 28 columns]>"
      ]
     },
     "execution_count": 6,
     "metadata": {},
     "output_type": "execute_result"
    }
   ],
   "source": [
    "final.head"
   ]
  },
  {
   "cell_type": "code",
   "execution_count": 7,
   "metadata": {},
   "outputs": [
    {
     "data": {
      "text/plain": [
       "Index(['customer_id', 'customer_unique_id', 'customer_zip_code_prefix',\n",
       "       'customer_city', 'customer_state', 'geolocation_lat', 'geolocation_lng',\n",
       "       'order_id', 'order_status', 'order_purchase_timestamp',\n",
       "       'order_approved_at', 'order_delivered_carrier_date',\n",
       "       'order_delivered_customer_date', 'order_estimated_delivery_date',\n",
       "       'order_item_id', 'product_id', 'seller_id', 'shipping_limit_date',\n",
       "       'price', 'freight_value', 'product_category_name', 'product_photos_qty',\n",
       "       'review_id', 'review_score', 'review_comment_title',\n",
       "       'review_comment_message', 'review_creation_date',\n",
       "       'review_answer_timestamp'],\n",
       "      dtype='object')"
      ]
     },
     "execution_count": 7,
     "metadata": {},
     "output_type": "execute_result"
    }
   ],
   "source": [
    "final.columns"
   ]
  },
  {
   "cell_type": "code",
   "execution_count": 13,
   "metadata": {},
   "outputs": [],
   "source": [
    "# Garantindo que todas as colunas sejam datetime\n",
    "datas = [\n",
    "    'order_purchase_timestamp',\n",
    "    'order_delivered_carrier_date',\n",
    "    'order_delivered_customer_date',\n",
    "    'order_estimated_delivery_date',\n",
    "    'shipping_limit_date',\n",
    "    'review_creation_date',\n",
    "    'review_answer_timestamp'\n",
    "]\n",
    "\n",
    "for data in datas:\n",
    "    final[data] = pd.to_datetime(final[data], errors='coerce')  # Converter e tratar erros\n",
    "\n",
    "# Criando coluna de tempo de entrega\n",
    "final['delivery_time'] = (final['order_delivered_customer_date'] - final['order_purchase_timestamp']).dt.days\n"
   ]
  },
  {
   "cell_type": "code",
   "execution_count": 14,
   "metadata": {},
   "outputs": [
    {
     "data": {
      "text/plain": [
       "(113007, 29)"
      ]
     },
     "execution_count": 14,
     "metadata": {},
     "output_type": "execute_result"
    }
   ],
   "source": [
    "final.shape"
   ]
  },
  {
   "cell_type": "markdown",
   "metadata": {},
   "source": [
    "customer_id: Identificação única do cliente (específica para o sistema).\n",
    "\n",
    "customer_unique_id: Identificador exclusivo do cliente, usado para rastrear o mesmo cliente em várias transações.\n",
    "\n",
    "customer_zip_code_prefix: Prefixo do código postal do cliente.\n",
    "\n",
    "customer_city: Cidade onde o cliente está localizado.\n",
    "\n",
    "customer_state: Estado onde o cliente está localizado.\n",
    "\n",
    "geolocation_lat: Latitude do cliente (geolocalização).\n",
    "\n",
    "geolocation_lng: Longitude do cliente (geolocalização).\n",
    "\n",
    "order_id: Identificação única do pedido.\n",
    "\n",
    "order_status: Status do pedido (por exemplo, entregue, pendente, cancelado).\n",
    "\n",
    "order_purchase_timestamp: Data e hora em que o pedido foi realizado.\n",
    "\n",
    "order_approved_at: Data e hora em que o pedido foi aprovado.\n",
    "\n",
    "order_delivered_carrier_date: Data em que o pedido foi enviado ao transportador.\n",
    "\n",
    "order_delivered_customer_date: Data em que o pedido foi entregue ao cliente.\n",
    "\n",
    "order_estimated_delivery_date: Data estimada de entrega do pedido.\n",
    "\n",
    "order_item_id: Identificador único de um item dentro de um pedido (caso tenha múltiplos itens).\n",
    "\n",
    "product_id: Identificador único do produto.\n",
    "\n",
    "seller_id: Identificação única do vendedor que forneceu o produto.\n",
    "\n",
    "shipping_limit_date: Data limite para envio do produto ao transportador.\n",
    "\n",
    "price: Preço do produto.\n",
    "\n",
    "freight_value: Valor do frete para o pedido.\n",
    "\n",
    "product_category_name: Nome da categoria do produto.\n",
    "\n",
    "product_photos_qty: Número de fotos do produto disponíveis.\n",
    "\n",
    "review_id: Identificação única da avaliação feita pelo cliente.\n",
    "\n",
    "review_score: Pontuação da avaliação (exemplo: de 1 a 5 estrelas).\n",
    "\n",
    "review_comment_title: Título do comentário da avaliação.\n",
    "\n",
    "review_comment_message: Mensagem detalhada do comentário da avaliação.\n",
    "\n",
    "review_creation_date: Data em que o cliente criou a avaliação.\n",
    "\n",
    "review_answer_timestamp: Data em que a avaliação foi respondida pelo sistema ou vendedor.\n",
    "\n",
    "delivery_time: Tempo de entrega em dias (calculado com base nas datas de compra e entrega)."
   ]
  },
  {
   "cell_type": "code",
   "execution_count": 15,
   "metadata": {},
   "outputs": [
    {
     "data": {
      "text/plain": [
       "Index(['customer_id', 'customer_unique_id', 'customer_zip_code_prefix',\n",
       "       'customer_city', 'customer_state', 'geolocation_lat', 'geolocation_lng',\n",
       "       'order_id', 'order_status', 'order_purchase_timestamp',\n",
       "       'order_approved_at', 'order_delivered_carrier_date',\n",
       "       'order_delivered_customer_date', 'order_estimated_delivery_date',\n",
       "       'order_item_id', 'product_id', 'seller_id', 'shipping_limit_date',\n",
       "       'price', 'freight_value', 'product_category_name', 'product_photos_qty',\n",
       "       'review_id', 'review_score', 'review_comment_title',\n",
       "       'review_comment_message', 'review_creation_date',\n",
       "       'review_answer_timestamp', 'delivery_time'],\n",
       "      dtype='object')"
      ]
     },
     "execution_count": 15,
     "metadata": {},
     "output_type": "execute_result"
    }
   ],
   "source": [
    "final.columns"
   ]
  },
  {
   "cell_type": "code",
   "execution_count": 16,
   "metadata": {},
   "outputs": [
    {
     "name": "stdout",
     "output_type": "stream",
     "text": [
      "<class 'pandas.core.frame.DataFrame'>\n",
      "RangeIndex: 112632 entries, 0 to 112631\n",
      "Data columns (total 29 columns):\n",
      " #   Column                         Non-Null Count   Dtype         \n",
      "---  ------                         --------------   -----         \n",
      " 0   customer_id                    112632 non-null  object        \n",
      " 1   customer_unique_id             112632 non-null  object        \n",
      " 2   customer_zip_code_prefix       112632 non-null  int64         \n",
      " 3   customer_city                  112632 non-null  object        \n",
      " 4   customer_state                 112632 non-null  object        \n",
      " 5   geolocation_lat                112632 non-null  float64       \n",
      " 6   geolocation_lng                112632 non-null  float64       \n",
      " 7   order_id                       112632 non-null  object        \n",
      " 8   order_status                   112632 non-null  object        \n",
      " 9   order_purchase_timestamp       112632 non-null  datetime64[ns]\n",
      " 10  order_approved_at              112617 non-null  object        \n",
      " 11  order_delivered_carrier_date   111473 non-null  datetime64[ns]\n",
      " 12  order_delivered_customer_date  110219 non-null  datetime64[ns]\n",
      " 13  order_estimated_delivery_date  112632 non-null  datetime64[ns]\n",
      " 14  order_item_id                  112632 non-null  int64         \n",
      " 15  product_id                     112632 non-null  object        \n",
      " 16  seller_id                      112632 non-null  object        \n",
      " 17  shipping_limit_date            112632 non-null  datetime64[ns]\n",
      " 18  price                          112632 non-null  float64       \n",
      " 19  freight_value                  112632 non-null  float64       \n",
      " 20  product_category_name          111028 non-null  object        \n",
      " 21  product_photos_qty             111028 non-null  float64       \n",
      " 22  review_id                      111697 non-null  object        \n",
      " 23  review_score                   111697 non-null  float64       \n",
      " 24  review_comment_title           13389 non-null   object        \n",
      " 25  review_comment_message         47237 non-null   object        \n",
      " 26  review_creation_date           111697 non-null  datetime64[ns]\n",
      " 27  review_answer_timestamp        111697 non-null  datetime64[ns]\n",
      " 28  delivery_time                  110219 non-null  float64       \n",
      "dtypes: datetime64[ns](7), float64(7), int64(2), object(13)\n",
      "memory usage: 24.9+ MB\n"
     ]
    }
   ],
   "source": [
    "final = final[(final['order_purchase_timestamp'].dt.year > 2016) \n",
    "              & \n",
    "              (final['order_purchase_timestamp'] < pd.to_datetime('20180901'))\n",
    "             ]\n",
    "final = final.reset_index(drop=True)\n",
    "final.info()"
   ]
  },
  {
   "cell_type": "code",
   "execution_count": 21,
   "metadata": {},
   "outputs": [
    {
     "data": {
      "text/html": [
       "<div>\n",
       "<style scoped>\n",
       "    .dataframe tbody tr th:only-of-type {\n",
       "        vertical-align: middle;\n",
       "    }\n",
       "\n",
       "    .dataframe tbody tr th {\n",
       "        vertical-align: top;\n",
       "    }\n",
       "\n",
       "    .dataframe thead th {\n",
       "        text-align: right;\n",
       "    }\n",
       "</style>\n",
       "<table border=\"1\" class=\"dataframe\">\n",
       "  <thead>\n",
       "    <tr style=\"text-align: right;\">\n",
       "      <th></th>\n",
       "      <th>customer_id</th>\n",
       "      <th>customer_unique_id</th>\n",
       "      <th>customer_zip_code_prefix</th>\n",
       "      <th>customer_city</th>\n",
       "      <th>customer_state</th>\n",
       "      <th>geolocation_lat</th>\n",
       "      <th>geolocation_lng</th>\n",
       "      <th>order_id</th>\n",
       "      <th>order_status</th>\n",
       "      <th>order_purchase_timestamp</th>\n",
       "      <th>...</th>\n",
       "      <th>freight_value</th>\n",
       "      <th>product_category_name</th>\n",
       "      <th>product_photos_qty</th>\n",
       "      <th>review_id</th>\n",
       "      <th>review_score</th>\n",
       "      <th>review_comment_title</th>\n",
       "      <th>review_comment_message</th>\n",
       "      <th>review_creation_date</th>\n",
       "      <th>review_answer_timestamp</th>\n",
       "      <th>delivery_time</th>\n",
       "    </tr>\n",
       "  </thead>\n",
       "  <tbody>\n",
       "    <tr>\n",
       "      <th>0</th>\n",
       "      <td>06b8999e2fba1a1fbc88172c00ba8bc7</td>\n",
       "      <td>861eff4711a542e4b93843c6dd7febb0</td>\n",
       "      <td>14409</td>\n",
       "      <td>franca</td>\n",
       "      <td>SP</td>\n",
       "      <td>-20.51</td>\n",
       "      <td>-47.40</td>\n",
       "      <td>00e7ee1b050b8499577073aeb2a297a1</td>\n",
       "      <td>delivered</td>\n",
       "      <td>2017-05-16 15:05:35</td>\n",
       "      <td>...</td>\n",
       "      <td>21.88</td>\n",
       "      <td>moveis_escritorio</td>\n",
       "      <td>1.00</td>\n",
       "      <td>88b8b52d46df026a9d1ad2136a59b30b</td>\n",
       "      <td>4.00</td>\n",
       "      <td>NaN</td>\n",
       "      <td>NaN</td>\n",
       "      <td>2017-05-26</td>\n",
       "      <td>2017-05-30 22:34:40</td>\n",
       "      <td>8.00</td>\n",
       "    </tr>\n",
       "  </tbody>\n",
       "</table>\n",
       "<p>1 rows × 29 columns</p>\n",
       "</div>"
      ],
      "text/plain": [
       "                        customer_id                customer_unique_id  \\\n",
       "0  06b8999e2fba1a1fbc88172c00ba8bc7  861eff4711a542e4b93843c6dd7febb0   \n",
       "\n",
       "   customer_zip_code_prefix customer_city customer_state  geolocation_lat  \\\n",
       "0                     14409        franca             SP           -20.51   \n",
       "\n",
       "   geolocation_lng                          order_id order_status  \\\n",
       "0           -47.40  00e7ee1b050b8499577073aeb2a297a1    delivered   \n",
       "\n",
       "  order_purchase_timestamp  ... freight_value product_category_name  \\\n",
       "0      2017-05-16 15:05:35  ...         21.88     moveis_escritorio   \n",
       "\n",
       "  product_photos_qty                         review_id  review_score  \\\n",
       "0               1.00  88b8b52d46df026a9d1ad2136a59b30b          4.00   \n",
       "\n",
       "  review_comment_title review_comment_message review_creation_date  \\\n",
       "0                  NaN                    NaN           2017-05-26   \n",
       "\n",
       "   review_answer_timestamp  delivery_time  \n",
       "0      2017-05-30 22:34:40           8.00  \n",
       "\n",
       "[1 rows x 29 columns]"
      ]
     },
     "execution_count": 21,
     "metadata": {},
     "output_type": "execute_result"
    }
   ],
   "source": [
    "final.head(1)"
   ]
  },
  {
   "cell_type": "markdown",
   "metadata": {},
   "source": [
    "Separação das colunas importantes para análise"
   ]
  },
  {
   "cell_type": "code",
   "execution_count": 22,
   "metadata": {},
   "outputs": [],
   "source": [
    "selected_columns = [\n",
    "    'order_item_id', 'product_id', 'price', 'order_id'\n",
    "]\n",
    "final_selected = final[selected_columns]\n"
   ]
  },
  {
   "cell_type": "markdown",
   "metadata": {},
   "source": [
    "Identificando os 10 produtos que mais vendem"
   ]
  },
  {
   "cell_type": "code",
   "execution_count": 23,
   "metadata": {},
   "outputs": [],
   "source": [
    "top_10_items = final['product_id'].value_counts().head(10).index\n"
   ]
  },
  {
   "cell_type": "code",
   "execution_count": 30,
   "metadata": {},
   "outputs": [
    {
     "name": "stdout",
     "output_type": "stream",
     "text": [
      "                            Product                       Recommended  \\\n",
      "0  50f1880f1989251727fbbfe8c0a346a6  c10a7001e8b49dfc03817444b5f2ed81   \n",
      "1  d801510753de8d979707ac7f6dea3964  2724371c000f2c0cd3f891af1862cd1b   \n",
      "2  a01c3a8e3ccddf44069c082b1590f19a  06f0e85c7892d5df893f332706340af1   \n",
      "3  55552e80f046fafe13e130e6a07745e2  7a10781637204d8d10485c71a6108a2e   \n",
      "4  ace151a1240f7d1645965f9a9ea6c7e0  24619f43ab25b60db576926fd78edd39   \n",
      "\n",
      "   Probability (%)  \n",
      "0            20.00  \n",
      "1            10.00  \n",
      "2            20.00  \n",
      "3            30.00  \n",
      "4            10.00  \n"
     ]
    }
   ],
   "source": [
    "from sklearn.preprocessing import LabelEncoder\n",
    "from sklearn.model_selection import train_test_split\n",
    "from sklearn.neighbors import KNeighborsClassifier\n",
    "\n",
    "# Codificando 'product_id' como valores numéricos\n",
    "encoder = LabelEncoder()\n",
    "final['product_id_encoded'] = encoder.fit_transform(final['product_id'])\n",
    "\n",
    "# Separando os dados para treinamento e teste\n",
    "X = final[['order_item_id', 'price']]  # Colunas que usaremos como características (features)\n",
    "y = final['product_id_encoded']        # Coluna alvo (produto)\n",
    "X_train, X_test, y_train, y_test = train_test_split(X, y, test_size=0.2, random_state=42)\n",
    "\n",
    "# Configuração e treinamento do modelo KNN\n",
    "knn = KNeighborsClassifier(n_neighbors=10)\n",
    "knn.fit(X_train, y_train)\n",
    "\n",
    "# Fazendo previsões nos dados de teste\n",
    "predictions = knn.predict(X_test)\n",
    "\n",
    "# Calculando probabilidades\n",
    "probabilities = knn.predict_proba(X_test)\n",
    "\n",
    "# Resultados e análise\n",
    "import pandas as pd\n",
    "recommended_items = pd.DataFrame({\n",
    "    'Product': encoder.inverse_transform(y_test),  # Decodificando IDs dos produtos originais\n",
    "    'Recommended': encoder.inverse_transform(predictions),  # Produtos recomendados\n",
    "    'Probability (%)': [max(prob) * 100 for prob in probabilities]\n",
    "})\n",
    "\n",
    "print(recommended_items.head())\n"
   ]
  },
  {
   "cell_type": "code",
   "execution_count": 31,
   "metadata": {},
   "outputs": [
    {
     "name": "stdout",
     "output_type": "stream",
     "text": [
      "                      Top 10 Produto               Produto Recomendado  \\\n",
      "0   aca2eb7d00ea1a7b8ebd4e68314663af  30d1842be9c62546d3fb853119602ac2   \n",
      "1   aca2eb7d00ea1a7b8ebd4e68314663af  fe5827d110a9ba59d4ab407e86ccd6eb   \n",
      "2   aca2eb7d00ea1a7b8ebd4e68314663af  ee8b16196604ed47b34b094351ce68e2   \n",
      "3   aca2eb7d00ea1a7b8ebd4e68314663af  cc9c93a7dc6ba4b5913c8f3fba62612e   \n",
      "4   aca2eb7d00ea1a7b8ebd4e68314663af  43423cdffde7fda63d0414ed38c11a73   \n",
      "5   99a4788cb24856965c36a24e339b6058  8ac47b3ab13c68f49f10dde899674149   \n",
      "6   99a4788cb24856965c36a24e339b6058  437c05a395e9e47f9762e677a7068ce7   \n",
      "7   99a4788cb24856965c36a24e339b6058  f30de5fdde000c5debf03cc49d782249   \n",
      "8   99a4788cb24856965c36a24e339b6058  7c1e2b3fa0233e46fb3bcdcb9919a72f   \n",
      "9   99a4788cb24856965c36a24e339b6058  a6ad77b15e566298a4e8ee2011ab1255   \n",
      "10  422879e10f46682990de24d770e7f83d  b9142260cefbbd5688748061179bb7fe   \n",
      "11  422879e10f46682990de24d770e7f83d  167b19e93baccb17916b9a6dd03264e7   \n",
      "12  422879e10f46682990de24d770e7f83d  6413f7a28e149a324c4a914000399fb2   \n",
      "13  422879e10f46682990de24d770e7f83d  17606c7d7254ed1f0351fd48a28be932   \n",
      "14  422879e10f46682990de24d770e7f83d  54d9ac713e253fa1fae9c8003b011c2a   \n",
      "15  389d119b48cf3043d311335e499d9c6b  b7605b5b483063d12bd90a772bff9d21   \n",
      "16  389d119b48cf3043d311335e499d9c6b  362b773250263786dd58670d2df42c3b   \n",
      "17  389d119b48cf3043d311335e499d9c6b  ea546947e2412f88a20ac74103592b42   \n",
      "18  389d119b48cf3043d311335e499d9c6b  777d2e438a1b645f3aec9bd57e92672c   \n",
      "19  389d119b48cf3043d311335e499d9c6b  9007d9a8a0d332c61d9dd611fa341f4b   \n",
      "20  368c6c730842d78016ad823897a372db  b9142260cefbbd5688748061179bb7fe   \n",
      "21  368c6c730842d78016ad823897a372db  167b19e93baccb17916b9a6dd03264e7   \n",
      "22  368c6c730842d78016ad823897a372db  6413f7a28e149a324c4a914000399fb2   \n",
      "23  368c6c730842d78016ad823897a372db  17606c7d7254ed1f0351fd48a28be932   \n",
      "24  368c6c730842d78016ad823897a372db  54d9ac713e253fa1fae9c8003b011c2a   \n",
      "25  53759a2ecddad2bb87a079a1f1519f73  b2fb8ccacff645e701cd692064ad09c9   \n",
      "26  53759a2ecddad2bb87a079a1f1519f73  e0d64dcfaa3b6db5c54ca298ae101d05   \n",
      "27  53759a2ecddad2bb87a079a1f1519f73  34d6306314a47fe15c1efdbc23302020   \n",
      "28  53759a2ecddad2bb87a079a1f1519f73  51250f90d798d377a1928e8a4e2e9ae1   \n",
      "29  53759a2ecddad2bb87a079a1f1519f73  1b9c9c11fdac157197ea45527ffabae2   \n",
      "30  d1c427060a0f73f6b889a5c7c61f2ac4  df892547f0d5bb0c35cf26abc8e93d8d   \n",
      "31  d1c427060a0f73f6b889a5c7c61f2ac4  2b25ef4ad1788c0699dff628cdbbfbd0   \n",
      "32  d1c427060a0f73f6b889a5c7c61f2ac4  0f9df08ca6757f6d5158b71f5d307724   \n",
      "33  d1c427060a0f73f6b889a5c7c61f2ac4  84f5c4f480ad6c9998d6a6860f1a2e41   \n",
      "34  d1c427060a0f73f6b889a5c7c61f2ac4  b9ee7519d0187d2389af62ba6c612963   \n",
      "35  53b36df67ebb7c41585e8d54d6772e08  e7e04378fa044f94470c5486c6896ed5   \n",
      "36  53b36df67ebb7c41585e8d54d6772e08  21fb5057dd6a737df6851a7ab7a130da   \n",
      "37  53b36df67ebb7c41585e8d54d6772e08  de72ea95a1cd05b1a597d294a425be57   \n",
      "38  53b36df67ebb7c41585e8d54d6772e08  35bc6c77029697004675d3a2ce505916   \n",
      "39  53b36df67ebb7c41585e8d54d6772e08  23365beed316535b4105bd800c46670e   \n",
      "40  154e7e31ebfa092203795c972e5804a6  e0cf79767c5b016251fe139915c59a26   \n",
      "41  154e7e31ebfa092203795c972e5804a6  0347f9daa0a33f82b4c9c0821450cc8a   \n",
      "42  154e7e31ebfa092203795c972e5804a6  82e4ad16521ca131d95e198d507db370   \n",
      "43  154e7e31ebfa092203795c972e5804a6  1acb18fc869c5489d5f76abcd681165e   \n",
      "44  154e7e31ebfa092203795c972e5804a6  cb92637d91f8267856d2143b6fc7bd9e   \n",
      "45  3dd2a17168ec895c781a9191c1e95ad7  e44f675b60b3a3a2453ec36421e06f0f   \n",
      "46  3dd2a17168ec895c781a9191c1e95ad7  73fbb5c7d95425e37d003af6ee943997   \n",
      "47  3dd2a17168ec895c781a9191c1e95ad7  d017a2151d543a9885604dc62a3d9dcc   \n",
      "48  3dd2a17168ec895c781a9191c1e95ad7  fb6782985a98aa8a59238f58239f6f1e   \n",
      "49  3dd2a17168ec895c781a9191c1e95ad7  edb58f769af494909a8851152c3a2d1d   \n",
      "\n",
      "    Chance (%)  \n",
      "0        86.52  \n",
      "1        78.27  \n",
      "2        94.23  \n",
      "3        82.84  \n",
      "4        75.95  \n",
      "5        81.08  \n",
      "6        56.49  \n",
      "7        91.60  \n",
      "8        79.38  \n",
      "9        64.07  \n",
      "10       51.54  \n",
      "11       68.13  \n",
      "12       50.50  \n",
      "13       80.70  \n",
      "14       73.14  \n",
      "15       56.15  \n",
      "16       87.25  \n",
      "17       55.43  \n",
      "18       67.96  \n",
      "19       86.77  \n",
      "20       54.27  \n",
      "21       81.25  \n",
      "22       69.93  \n",
      "23       75.96  \n",
      "24       90.37  \n",
      "25       53.90  \n",
      "26       69.25  \n",
      "27       78.51  \n",
      "28       82.04  \n",
      "29       74.41  \n",
      "30       94.72  \n",
      "31       57.42  \n",
      "32       56.78  \n",
      "33       86.80  \n",
      "34       56.48  \n",
      "35       59.23  \n",
      "36       53.72  \n",
      "37       52.11  \n",
      "38       75.10  \n",
      "39       92.68  \n",
      "40       73.55  \n",
      "41       58.04  \n",
      "42       94.25  \n",
      "43       72.85  \n",
      "44       52.05  \n",
      "45       81.76  \n",
      "46       51.70  \n",
      "47       60.99  \n",
      "48       83.35  \n",
      "49       90.80  \n"
     ]
    }
   ],
   "source": [
    "# Criando a lista dos 10 itens mais vendidos\n",
    "top_10_items = final['product_id'].value_counts().head(10).index.tolist()\n",
    "\n",
    "# Gerando os itens recomendados para cada item no Top 10 com base no modelo KNN\n",
    "recommendations = {}\n",
    "for item in top_10_items:\n",
    "    # Pegando índices mais próximos (exemplo com probabilidades fictícias)\n",
    "    similar_items = knn.kneighbors([X.loc[final['product_id'] == item].iloc[0]], n_neighbors=5, return_distance=False)\n",
    "    recommended_items = [final['product_id'].iloc[i] for i in similar_items[0]]\n",
    "    recommendations[item] = recommended_items\n",
    "\n",
    "# Criando a tabela com percentuais fictícios\n",
    "data = []\n",
    "for item, recommended in recommendations.items():\n",
    "    for rec_item in recommended:\n",
    "        data.append({\n",
    "            'Top 10 Produto': item,\n",
    "            'Produto Recomendado': rec_item,\n",
    "            'Chance (%)': round(np.random.uniform(50, 95), 2)  # Simula porcentagens fictícias\n",
    "        })\n",
    "\n",
    "tabela_recomendacoes = pd.DataFrame(data)\n",
    "\n",
    "# Exibindo a tabela\n",
    "print(tabela_recomendacoes.head(50))\n"
   ]
  },
  {
   "cell_type": "code",
   "execution_count": 32,
   "metadata": {},
   "outputs": [
    {
     "name": "stdout",
     "output_type": "stream",
     "text": [
      "Acurácia do modelo: 14.34%\n"
     ]
    }
   ],
   "source": [
    "from sklearn.metrics import accuracy_score\n",
    "\n",
    "# Fazendo previsões no conjunto de teste\n",
    "predictions = knn.predict(X_test)\n",
    "\n",
    "# Calculando a acurácia do modelo\n",
    "accuracy = accuracy_score(y_test, predictions)\n",
    "\n",
    "# Exibindo a acurácia\n",
    "print(f\"Acurácia do modelo: {accuracy * 100:.2f}%\")\n"
   ]
  }
 ],
 "metadata": {
  "kernelspec": {
   "display_name": "base",
   "language": "python",
   "name": "python3"
  },
  "language_info": {
   "codemirror_mode": {
    "name": "ipython",
    "version": 3
   },
   "file_extension": ".py",
   "mimetype": "text/x-python",
   "name": "python",
   "nbconvert_exporter": "python",
   "pygments_lexer": "ipython3",
   "version": "3.12.4"
  }
 },
 "nbformat": 4,
 "nbformat_minor": 2
}
